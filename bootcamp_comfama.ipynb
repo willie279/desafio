{
  "nbformat": 4,
  "nbformat_minor": 0,
  "metadata": {
    "colab": {
      "provenance": [],
      "authorship_tag": "ABX9TyNDxUgEFUlUmyNR+D/Ywl+H",
      "include_colab_link": true
    },
    "kernelspec": {
      "name": "python3",
      "display_name": "Python 3"
    },
    "language_info": {
      "name": "python"
    }
  },
  "cells": [
    {
      "cell_type": "markdown",
      "metadata": {
        "id": "view-in-github",
        "colab_type": "text"
      },
      "source": [
        "<a href=\"https://colab.research.google.com/github/willie279/desafio/blob/main/bootcamp_comfama.ipynb\" target=\"_parent\"><img src=\"https://colab.research.google.com/assets/colab-badge.svg\" alt=\"Open In Colab\"/></a>"
      ]
    },
    {
      "cell_type": "code",
      "execution_count": null,
      "metadata": {
        "id": "cj9dCDAWA2kJ"
      },
      "outputs": [],
      "source": []
    },
    {
      "cell_type": "markdown",
      "source": [
        "my first code in python"
      ],
      "metadata": {
        "id": "6rk11_hlB_0-"
      }
    },
    {
      "cell_type": "code",
      "source": [
        "print(\"hello world\")\n",
        "edad = 8.4\n",
        "rango = 15\n",
        "print(edad)\n",
        "print(rango)"
      ],
      "metadata": {
        "colab": {
          "base_uri": "https://localhost:8080/"
        },
        "id": "HrPdZVMqCC2E",
        "outputId": "f42b36b6-c900-4c30-b376-db5c23de2064"
      },
      "execution_count": 6,
      "outputs": [
        {
          "output_type": "stream",
          "name": "stdout",
          "text": [
            "hello world\n",
            "8.4\n",
            "15\n"
          ]
        }
      ]
    },
    {
      "cell_type": "markdown",
      "source": [
        "uso de variables en una suma"
      ],
      "metadata": {
        "id": "WCn_MI1qGMsH"
      }
    },
    {
      "cell_type": "code",
      "source": [
        "edad = 8.4\n",
        "rango = 15\n",
        "suma = edad + rango\n",
        "print(suma)\n"
      ],
      "metadata": {
        "colab": {
          "base_uri": "https://localhost:8080/"
        },
        "id": "YmVQFtEhGPVb",
        "outputId": "f6a2e9ac-230d-461a-d68c-56c86e81a19f"
      },
      "execution_count": 7,
      "outputs": [
        {
          "output_type": "stream",
          "name": "stdout",
          "text": [
            "23.4\n"
          ]
        }
      ]
    },
    {
      "cell_type": "markdown",
      "source": [
        "variable input"
      ],
      "metadata": {
        "id": "extXdQ71HelE"
      }
    },
    {
      "cell_type": "code",
      "source": [
        "name =input('Enter a name: ')\n",
        "print('your name is:',name)\n"
      ],
      "metadata": {
        "colab": {
          "base_uri": "https://localhost:8080/"
        },
        "id": "5TMUVyQFHiIy",
        "outputId": "170f1b7b-09fd-440f-c900-2a8737292a50"
      },
      "execution_count": 12,
      "outputs": [
        {
          "output_type": "stream",
          "name": "stdout",
          "text": [
            "Enter a name: andres\n",
            "your name is: andres\n"
          ]
        }
      ]
    },
    {
      "cell_type": "markdown",
      "source": [
        "condicionales"
      ],
      "metadata": {
        "id": "X27RLopgI2_w"
      }
    },
    {
      "cell_type": "code",
      "source": [
        "a = 11\n",
        "b = 15\n",
        "if( a > b):\n",
        " print('You Win')\n",
        "\n",
        "else :\n",
        "  print('You lose')\n",
        ""
      ],
      "metadata": {
        "colab": {
          "base_uri": "https://localhost:8080/"
        },
        "id": "vxnXXEA7I6GF",
        "outputId": "84a5158e-db8a-4868-9a17-2503d7559a15"
      },
      "execution_count": 16,
      "outputs": [
        {
          "output_type": "stream",
          "name": "stdout",
          "text": [
            "You lose\n"
          ]
        }
      ]
    },
    {
      "cell_type": "markdown",
      "source": [
        "condicional anidado"
      ],
      "metadata": {
        "id": "Z1hoJE5CMnSC"
      }
    },
    {
      "cell_type": "code",
      "source": [
        "a = 10\n",
        "b = 15\n",
        "c= 16\n",
        "if( a > b):\n",
        " print('You Win')\n",
        "\n",
        "elif a > c:\n",
        "  print('You lose')\n",
        "\n",
        "elif b > c:\n",
        "  print('WTF')\n",
        "\n",
        "else:\n",
        "  print ('tie')\n",
        "\n",
        "\n",
        ""
      ],
      "metadata": {
        "id": "bbQ5dbEHMrlJ"
      },
      "execution_count": null,
      "outputs": []
    },
    {
      "cell_type": "markdown",
      "source": [
        "nota y nombre del estudiante, si la nota es mayor a tres aprueba."
      ],
      "metadata": {
        "id": "7FI2V05TOjDn"
      }
    },
    {
      "cell_type": "code",
      "source": [
        "nota = float(input('enter a califications'))# convierte el texto numerico a valor float, si le coloco entero no me arroja la parte decimal\n",
        "name = input('enter a name: ')\n",
        "if nota >= 3:\n",
        "  print (name, 'aprobo:')\n",
        "else:\n",
        "  print(name, 'desaprobo')"
      ],
      "metadata": {
        "colab": {
          "base_uri": "https://localhost:8080/"
        },
        "id": "CjyRgNMCOsjB",
        "outputId": "6a9a8aab-103e-4fd7-8165-38c67521a125"
      },
      "execution_count": 21,
      "outputs": [
        {
          "output_type": "stream",
          "name": "stdout",
          "text": [
            "enter a califications3.5\n",
            "enter a name: andres\n",
            "andres aprobo:\n"
          ]
        }
      ]
    },
    {
      "cell_type": "markdown",
      "source": [
        "ciclo for"
      ],
      "metadata": {
        "id": "K6B-STGcShmj"
      }
    },
    {
      "cell_type": "code",
      "source": [
        "for i in range(1,11):\n",
        "  print (i)\n",
        "\n",
        "#numeros pares hasta el 50\n",
        "print('')\n",
        "for i in range(0,51,2):# comienzo,final,incremento\n",
        "  print (i)"
      ],
      "metadata": {
        "colab": {
          "base_uri": "https://localhost:8080/"
        },
        "id": "K1QTGN5jSjjH",
        "outputId": "d45d5304-f7b2-4a7d-c7f6-a876774f7b21"
      },
      "execution_count": 26,
      "outputs": [
        {
          "output_type": "stream",
          "name": "stdout",
          "text": [
            "1\n",
            "2\n",
            "3\n",
            "4\n",
            "5\n",
            "6\n",
            "7\n",
            "8\n",
            "9\n",
            "10\n",
            "\n",
            "0\n",
            "2\n",
            "4\n",
            "6\n",
            "8\n",
            "10\n",
            "12\n",
            "14\n",
            "16\n",
            "18\n",
            "20\n",
            "22\n",
            "24\n",
            "26\n",
            "28\n",
            "30\n",
            "32\n",
            "34\n",
            "36\n",
            "38\n",
            "40\n",
            "42\n",
            "44\n",
            "46\n",
            "48\n",
            "50\n"
          ]
        }
      ]
    },
    {
      "cell_type": "markdown",
      "source": [
        "listas\n"
      ],
      "metadata": {
        "id": "tqX6COlLVKD9"
      }
    },
    {
      "cell_type": "code",
      "source": [
        "lista1 =[]\n",
        "for i in range(1,11):\n",
        "  lista1.append(i)\n",
        "  print (i);\n",
        "\n",
        "print ('')\n",
        "\n",
        "lista =[1,2,3,4,5,6,7,8,9,10]\n",
        "for i in range(lista[0],lista[9]): #duda con la posicion final.\n",
        "  print(i)"
      ],
      "metadata": {
        "colab": {
          "base_uri": "https://localhost:8080/"
        },
        "id": "MZLmSlE4VMqP",
        "outputId": "ff96961e-2743-44ce-a4e8-d3f49159c317"
      },
      "execution_count": 52,
      "outputs": [
        {
          "output_type": "stream",
          "name": "stdout",
          "text": [
            "1\n",
            "2\n",
            "3\n",
            "4\n",
            "5\n",
            "6\n",
            "7\n",
            "8\n",
            "9\n",
            "10\n",
            "\n",
            "1\n",
            "2\n",
            "3\n",
            "4\n",
            "5\n",
            "6\n",
            "7\n",
            "8\n",
            "9\n"
          ]
        }
      ]
    }
  ]
}